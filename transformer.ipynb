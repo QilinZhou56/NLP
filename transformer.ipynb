{
  "cells": [
    {
      "cell_type": "markdown",
      "metadata": {
        "id": "figlHFY9_YFT"
      },
      "source": [
        "# Transformer for Language Translation in PyTorch"
      ]
    },
    {
      "cell_type": "markdown",
      "metadata": {
        "id": "-ojshAO__YFY"
      },
      "source": [
        "## Dataset\n",
        "\n",
        "For the translation task we will use the French-English dataset provided with the zip file. Make sure you extract the zip in the proper location. If the zip file is not extracted in the proper location your code will not work. You'll need to use GPUs (at Google Colab)."
      ]
    },
    {
      "cell_type": "code",
      "execution_count": null,
      "metadata": {
        "colab": {
          "base_uri": "https://localhost:8080/"
        },
        "id": "ZKosmNvf_YFe",
        "outputId": "77d7abad-a4cc-4f22-de8e-e5faf5d8e226"
      },
      "outputs": [
        {
          "output_type": "stream",
          "name": "stdout",
          "text": [
            "Mounted at /content/gdrive/\n"
          ]
        }
      ],
      "source": [
        "from google.colab import drive\n",
        "drive.mount('/content/gdrive/')"
      ]
    },
    {
      "cell_type": "markdown",
      "metadata": {
        "id": "wwV6I41fygmX"
      },
      "source": [
        "Make sure you sure extract the zip in a directory named Transformer. Or change the following depending your directory name"
      ]
    },
    {
      "cell_type": "code",
      "execution_count": null,
      "metadata": {
        "id": "ErcXw-LCCU5p"
      },
      "outputs": [],
      "source": [
        "import sys\n",
        "sys.path.append('/content/gdrive/My Drive/Transformer')"
      ]
    },
    {
      "cell_type": "code",
      "execution_count": null,
      "metadata": {
        "colab": {
          "base_uri": "https://localhost:8080/"
        },
        "id": "M2TimXbMIICA",
        "outputId": "29bbeb65-2170-4543-b6d2-941fcb8cd537"
      },
      "outputs": [
        {
          "output_type": "stream",
          "name": "stderr",
          "text": [
            "[nltk_data] Downloading package punkt to /root/nltk_data...\n",
            "[nltk_data]   Package punkt is already up-to-date!\n"
          ]
        },
        {
          "output_type": "execute_result",
          "data": {
            "text/plain": [
              "True"
            ]
          },
          "metadata": {},
          "execution_count": 21
        }
      ],
      "source": [
        "import nltk\n",
        "nltk.download('punkt')"
      ]
    },
    {
      "cell_type": "code",
      "execution_count": null,
      "metadata": {
        "id": "NQ0Rso_2_YFr"
      },
      "outputs": [],
      "source": [
        "import warnings\n",
        "warnings.filterwarnings('ignore')\n",
        "\n",
        "import torch\n",
        "from torch import nn\n",
        "import torch.functional as F\n",
        "import numpy as np\n",
        "import matplotlib.pyplot as plt\n",
        "import os\n",
        "\n",
        "from torch.utils.data import Dataset, DataLoader\n",
        "from fra_eng_dataset import FraEngDataset, fra_eng_dataset_collate\n",
        "from torch.nn.utils.rnn import pad_sequence, pack_padded_sequence, pad_packed_sequence\n",
        "\n",
        "device = 'cpu'\n",
        "if torch.cuda.is_available():\n",
        "    device = 'cuda'"
      ]
    },
    {
      "cell_type": "markdown",
      "metadata": {
        "id": "v_rmo748_YFz"
      },
      "source": [
        "## Attention Layers"
      ]
    },
    {
      "cell_type": "markdown",
      "metadata": {
        "id": "2OOJn5A2zAwC"
      },
      "source": [
        "Please read the section \"Self-Attention in Detail\" in Illustracted Transformer blog post (or see the original paper) and the complete the following section."
      ]
    },
    {
      "cell_type": "code",
      "execution_count": null,
      "metadata": {
        "id": "f7g3bm12_YF2"
      },
      "outputs": [],
      "source": [
        "class SelfAttentionHead(nn.Module):\n",
        "    def __init__(self, d_model):\n",
        "        super().__init__()\n",
        "        # K V Q are the matrices for creating the keys, values and queries vector\n",
        "        self.d_model = d_model\n",
        "        self.K = nn.Linear(d_model, d_model)\n",
        "        self.V = nn.Linear(d_model, d_model)\n",
        "        self.Q = nn.Linear(d_model, d_model)\n",
        "\n",
        "    def forward(self, x, padding_mask = None, subsq_mask = None):\n",
        "        # x shape: [N, SEQ, D_MODEL]\n",
        "\n",
        "        keys = self.K.forward(x)\n",
        "        values = self.V.forward(x)\n",
        "        queries = self.Q.forward(x)\n",
        "\n",
        "        sqrt_d = self.d_model ** 0.5\n",
        "\n",
        "        att = torch.matmul(queries, keys.transpose(1,2)) / sqrt_d #Attention before softmax comes here\n",
        "        # att shape: [N, SEQ, SEQ]\n",
        "        # Broadcast padding mask to word attentions so that word attention does not attend to positions outside the sentence\n",
        "        if padding_mask is not None:\n",
        "            att = att + padding_mask.transpose(1,2)\n",
        "        # Add subsequent mask so that each position can attend only itself and the previous elements\n",
        "        if subsq_mask is not None:\n",
        "            att = att + subsq_mask.unsqueeze(0)\n",
        "\n",
        "        att_softmax = torch.softmax(att, dim=2)\n",
        "        # shape: [N, SEQ, SEQ]\n",
        "        att_out = torch.matmul(att_softmax, values)\n",
        "        # shape: [N, SEQ, D_MODEL]\n",
        "\n",
        "        return att_out, keys, values"
      ]
    },
    {
      "cell_type": "markdown",
      "metadata": {
        "id": "AZ2KRdxd_YF9"
      },
      "source": [
        "### Memory Attention\n",
        "This is the same as Self Attention only the keys and values matrices are not calculated from weights and input but are passed to the forward function."
      ]
    },
    {
      "cell_type": "code",
      "execution_count": null,
      "metadata": {
        "id": "O7-IVvMg_YF-"
      },
      "outputs": [],
      "source": [
        "class MemAttentionHead(nn.Module):\n",
        "    def __init__(self, d_model):\n",
        "        super().__init__()\n",
        "\n",
        "        self.d_model = d_model\n",
        "        self.Q = nn.Linear(d_model, d_model)\n",
        "\n",
        "    def forward(self, x, mem_padding_mask, keys = None, values = None):\n",
        "\n",
        "        # X shape: [N, SEQ, D_MODEL]\n",
        "        queries = self.Q.forward(x)\n",
        "        sqrt_d = self.d_model ** 0.5\n",
        "\n",
        "        att = torch.matmul(queries, keys.transpose(1,2)) / sqrt_d\n",
        "        # att shape: [N, SEQ_TGT, SEQ_SRC]\n",
        "\n",
        "        # Broadcast padding mask to word attentions so that word attention does not attend to positions outside the source sentence\n",
        "        if mem_padding_mask is not None:\n",
        "            att = att + mem_padding_mask.transpose(1,2)\n",
        "\n",
        "        att_softmax = torch.softmax(att, dim=2)\n",
        "        # shape: [N, SEQ_TGT, SEQ_SRC]\n",
        "        att_out = torch.matmul(att_softmax, values)\n",
        "        # shape: [N, SEQ_TGT, D_MODEL]\n",
        "\n",
        "        return att_out"
      ]
    },
    {
      "cell_type": "markdown",
      "metadata": {
        "id": "54YbZMvx_YGG"
      },
      "source": [
        "### Multi-head attentions for Self Attention and Memory Attention"
      ]
    },
    {
      "cell_type": "markdown",
      "metadata": {
        "id": "Y4flu62Z12lw"
      },
      "source": [
        "Please read the section \"The Beast With Many Heads\" in the illustrated Transformer article before attempting this section"
      ]
    },
    {
      "cell_type": "code",
      "execution_count": null,
      "metadata": {
        "id": "PggyHjKB_YGH"
      },
      "outputs": [],
      "source": [
        "class MultiHeadSelfAttention(nn.Module):\n",
        "    def __init__(self, d_model, num_heads):\n",
        "        super().__init__()\n",
        "\n",
        "        self.num_heads = num_heads\n",
        "        self.heads = nn.ModuleList([SelfAttentionHead(d_model) for i in range(num_heads)]) # Use the nn.ModuleList( ) function for this\n",
        "        self.linear = nn.Linear(num_heads * d_model, d_model)\n",
        "\n",
        "    def forward(self, src, src_padding_mask, src_subsq_mask):\n",
        "\n",
        "        out_cat = None\n",
        "        keys = None\n",
        "        values = None\n",
        "\n",
        "        for i in range(self.num_heads):\n",
        "            head_outp, keys, values = self.heads[i].forward(src, src_padding_mask, src_subsq_mask)\n",
        "\n",
        "            if i == 0:\n",
        "                out_cat = head_outp\n",
        "            else:\n",
        "                out_cat = torch.cat([out_cat, head_outp], dim=2)\n",
        "\n",
        "        ret = self.linear.forward(out_cat)\n",
        "\n",
        "        return ret, keys, values"
      ]
    },
    {
      "cell_type": "markdown",
      "metadata": {
        "id": "5QxWaTVK2hZJ"
      },
      "source": [
        "This is same as before but for memory attention"
      ]
    },
    {
      "cell_type": "code",
      "execution_count": null,
      "metadata": {
        "id": "46a6IG1v_YGP"
      },
      "outputs": [],
      "source": [
        "class MultiHeadMemAttention(nn.Module):\n",
        "    def __init__(self, d_model, num_heads):\n",
        "        super().__init__()\n",
        "\n",
        "        self.num_heads = num_heads\n",
        "        self.heads = nn.ModuleList([MemAttentionHead(d_model) for i in range(num_heads)])\n",
        "        self.linear = nn.Linear(num_heads * d_model, d_model)\n",
        "\n",
        "    def forward(self, src, src_padding_mask, keys, values):\n",
        "\n",
        "        out_cat = None\n",
        "        for i in range(self.num_heads):\n",
        "            head_outp = self.heads[i].forward(src, src_padding_mask, keys = keys, values = values)\n",
        "\n",
        "            if i == 0:\n",
        "                out_cat = head_outp\n",
        "            else:\n",
        "                out_cat = torch.cat([out_cat, head_outp], dim=2)\n",
        "\n",
        "        ret = self.linear.forward(out_cat)\n",
        "\n",
        "        return ret"
      ]
    },
    {
      "cell_type": "markdown",
      "metadata": {
        "id": "fvlgDBKY_YGU"
      },
      "source": [
        "### Encoder layer"
      ]
    },
    {
      "cell_type": "markdown",
      "metadata": {
        "id": "gscU-jiG2ydv"
      },
      "source": [
        "Please read the section \"Residuals\" in the Illustrated Transformer article before attempting this section"
      ]
    },
    {
      "cell_type": "code",
      "execution_count": null,
      "metadata": {
        "id": "DGSX2YmQ_YGV"
      },
      "outputs": [],
      "source": [
        "class EncoderLayer(nn.Module):\n",
        "    def __init__(self, d_model, num_att_heads, ff_dim = 2048, dropout = 0.1):\n",
        "        super().__init__()\n",
        "\n",
        "        self.multihead_attention = MultiHeadSelfAttention(d_model, num_att_heads)\n",
        "        self.dropout1 = nn.Dropout(dropout)\n",
        "        self.att_sublayer_norm = torch.nn.LayerNorm(d_model) # Use torch.nn.LayerNorm() here\n",
        "\n",
        "        self.linear1 = nn.Linear(d_model, ff_dim)\n",
        "        self.relu = nn.ReLU()\n",
        "        self.dropout_lin = nn.Dropout(dropout)\n",
        "        self.linear2 = nn.Linear(ff_dim, d_model)\n",
        "\n",
        "        self.dropout2 = nn.Dropout(dropout)\n",
        "        self.lin_sublayer_norm = torch.nn.LayerNorm(d_model)\n",
        "\n",
        "    def forward(self, src, src_padding_mask, src_subsq_mask):\n",
        "\n",
        "        residual_1 = src\n",
        "        x, keys, values = self.multihead_attention.forward(src, src_padding_mask, src_subsq_mask)\n",
        "        x = self.att_sublayer_norm.forward(residual_1 + self.dropout1(x)) # call att_sublayer_norm\n",
        "\n",
        "        residual_2 = x\n",
        "        x = self.linear2(self.dropout_lin(self.relu(self.linear1.forward(x))))\n",
        "        x = self.lin_sublayer_norm(residual_2 + self.dropout2(x)) # call lin_sublayer_norm\n",
        "\n",
        "        return x, keys, values"
      ]
    },
    {
      "cell_type": "markdown",
      "metadata": {
        "id": "Cvjkp1Bb_YGc"
      },
      "source": [
        "### Decoder layer\n",
        "\n",
        "The only difference between Encoder and Decoder layer is the additional MultiHeadMemAttention() sublayer in the decoder layer."
      ]
    },
    {
      "cell_type": "code",
      "execution_count": null,
      "metadata": {
        "id": "b7O5jz4h_YGc"
      },
      "outputs": [],
      "source": [
        "class DecoderLayer(nn.Module):\n",
        "    def __init__(self, d_model, num_att_heads, ff_dim = 2048, dropout = 0.1):\n",
        "        super().__init__()\n",
        "\n",
        "        self.multihead_self_attention = MultiHeadSelfAttention(d_model, num_att_heads)\n",
        "        self.self_att_sublayer_norm = torch.nn.LayerNorm(d_model)\n",
        "        self.dropout1 = nn.Dropout(dropout)\n",
        "\n",
        "        self.multihead_mem_attention = MultiHeadMemAttention(d_model, num_att_heads)\n",
        "        self.mem_att_sublayer_norm = torch.nn.LayerNorm(d_model)\n",
        "        self.dropout2 = nn.Dropout(dropout)\n",
        "\n",
        "        self.linear1 = nn.Linear(d_model, ff_dim)\n",
        "        self.dropout_lin = nn.Dropout(dropout)\n",
        "        self.relu = nn.ReLU()\n",
        "        self.linear2 = nn.Linear(ff_dim, d_model)\n",
        "        self.lin_sublayer_norm = torch.nn.LayerNorm(d_model)\n",
        "        self.dropout3 = nn.Dropout(dropout)\n",
        "\n",
        "    def forward(self, x, src_padding_mask, tgt_padding_mask, tgt_subsq_mask, mem_keys, mem_values):\n",
        "\n",
        "        residual_1 = x\n",
        "        x, keys, values = self.multihead_self_attention.forward(x, tgt_padding_mask, tgt_subsq_mask)\n",
        "        x = self.self_att_sublayer_norm.forward(residual_1 + self.dropout1(x))\n",
        "\n",
        "        residual_2 = x\n",
        "        x = self.multihead_mem_attention.forward(x, src_padding_mask, keys = mem_keys, values = mem_values)\n",
        "        x = self.mem_att_sublayer_norm.forward(residual_2 + self.dropout2(x))\n",
        "\n",
        "        residual_3 = x\n",
        "        x = self.linear2(self.dropout_lin(self.relu(self.linear1.forward(x))))\n",
        "        x = self.lin_sublayer_norm(residual_3 + self.dropout3(x))\n",
        "\n",
        "        return x"
      ]
    },
    {
      "cell_type": "markdown",
      "metadata": {
        "id": "dcc0fJvy_YGi"
      },
      "source": [
        "### Encoder"
      ]
    },
    {
      "cell_type": "code",
      "execution_count": null,
      "metadata": {
        "id": "ysTuoG-v_YGk"
      },
      "outputs": [],
      "source": [
        "class Encoder(nn.Module):\n",
        "    def __init__(self, num_layers, d_model, num_att_heads):\n",
        "        super().__init__()\n",
        "        self.layers = nn.ModuleList([EncoderLayer(d_model, num_att_heads) for i in range(num_layers)])\n",
        "        self.norm = nn.LayerNorm(d_model)\n",
        "\n",
        "    def forward(self,src, src_padding_mask, src_subsq_mask):\n",
        "        x = src\n",
        "\n",
        "        keys = None\n",
        "        values = None\n",
        "        for layer in self.layers:\n",
        "            x, keys, values = layer.forward(x, src_padding_mask, src_subsq_mask)\n",
        "\n",
        "        x = self.norm.forward(x)\n",
        "\n",
        "        return keys, values"
      ]
    },
    {
      "cell_type": "markdown",
      "metadata": {
        "id": "_8yCC8NW_YGq"
      },
      "source": [
        "### Decoder"
      ]
    },
    {
      "cell_type": "code",
      "execution_count": null,
      "metadata": {
        "id": "8nBgP5wz_YGq"
      },
      "outputs": [],
      "source": [
        "class Decoder(nn.Module):\n",
        "    def __init__(self, num_layers, d_model, num_att_heads):\n",
        "        super().__init__()\n",
        "        self.layers = nn.ModuleList([DecoderLayer(d_model, num_att_heads) for i in range(num_layers)])\n",
        "        self.norm = nn.LayerNorm(d_model)\n",
        "\n",
        "    def forward(self, tgt, src_padding_mask, tgt_padding_mask, tgt_subsq_mask, mem_keys, mem_values):\n",
        "        x = tgt\n",
        "        for layer in self.layers:\n",
        "            x = layer.forward(x, src_padding_mask, tgt_padding_mask, tgt_subsq_mask, mem_keys, mem_values)\n",
        "\n",
        "        x = self.norm.forward(x)\n",
        "\n",
        "        return x"
      ]
    },
    {
      "cell_type": "markdown",
      "metadata": {
        "id": "yk8mMMIh_YGx"
      },
      "source": [
        "## Positional Encoding\n",
        "\n",
        "Please read the section on \"Positional Encoding\" on Illustrated Transformer blogpost before attempting this\n"
      ]
    },
    {
      "cell_type": "code",
      "execution_count": null,
      "metadata": {
        "id": "40qMqmNP_YGz"
      },
      "outputs": [],
      "source": [
        "class PositionalEncoding(nn.Module):\n",
        "    def __init__(self, d_model):\n",
        "        super().__init__()\n",
        "        self.d_model = d_model\n",
        "\n",
        "        self.sin_args = torch.zeros(1, self.d_model).to(device)\n",
        "        self.cos_args = torch.zeros(1, self.d_model).to(device)\n",
        "        for i in range(self.d_model//2):\n",
        "            self.sin_args[0,i * 2] = 10000**(2.*i/self.d_model)\n",
        "            self.cos_args[0,i * 2 + 1] = 10000**(2.*i/self.d_model)\n",
        "\n",
        "        self.sin_args_mask = (self.sin_args > 1e-10).float()\n",
        "        self.sin_args = self.sin_args + (self.sin_args < 1e-10).float()\n",
        "\n",
        "        self.cos_args_mask = (self.cos_args > 1e-10).float()\n",
        "        self.cos_args = self.cos_args + (self.cos_args < 1e-10).float()\n",
        "\n",
        "    def forward(self, x):\n",
        "        for pos in range(x.size()[-2]):\n",
        "            x[:,pos,:] = x[:,pos,:] + \\\n",
        "                         torch.sin(pos / self.sin_args) * self.sin_args_mask + \\\n",
        "                         torch.cos(pos / self.cos_args) * self.cos_args_mask\n",
        "\n",
        "        return x\n"
      ]
    },
    {
      "cell_type": "markdown",
      "metadata": {
        "id": "cAmY7xVV_YG5"
      },
      "source": [
        "Here is a vizualization of the positional encoding vectors. Each row is an encoding for a word."
      ]
    },
    {
      "cell_type": "code",
      "execution_count": null,
      "metadata": {
        "colab": {
          "base_uri": "https://localhost:8080/",
          "height": 371
        },
        "id": "0fskAsp9_YG6",
        "outputId": "7c567869-0312-43fe-f751-a1200a09660a"
      },
      "outputs": [
        {
          "output_type": "display_data",
          "data": {
            "text/plain": [
              "<Figure size 1200x400 with 1 Axes>"
            ],
            "image/png": "[encoded data removed]"
          },
          "metadata": {}
        }
      ],
      "source": [
        "import matplotlib.pyplot as plt\n",
        "%matplotlib inline\n",
        "\n",
        "positional_enc = PositionalEncoding(128).to(device)\n",
        "data = torch.zeros(1, 50, 128).to(device)\n",
        "data_pos_enc = positional_enc.forward(data)\n",
        "\n",
        "enc_np = data_pos_enc.squeeze(dim=0).to('cpu').numpy()\n",
        "fig, ax = plt.subplots(figsize=(12, 4))\n",
        "ax.imshow(enc_np)\n",
        "plt.show()"
      ]
    },
    {
      "cell_type": "markdown",
      "metadata": {
        "id": "Ig-oDR0j_YHB"
      },
      "source": [
        "## The Transformer model\n",
        "\n",
        "Now combine all the pieces to build the Transformer model"
      ]
    },
    {
      "cell_type": "code",
      "execution_count": null,
      "metadata": {
        "id": "hyD8JyUm_YHD"
      },
      "outputs": [],
      "source": [
        "\n",
        "class Transformer(nn.Module):\n",
        "    def __init__(self, num_layers, d_model, num_att_heads, input_dict_size, output_dict_size):\n",
        "        super().__init__()\n",
        "\n",
        "        self.max_sent_len = 50\n",
        "\n",
        "        self.input_emb = nn.Embedding(input_dict_size, d_model)\n",
        "        self.outp_emb = nn.Embedding(output_dict_size, d_model)\n",
        "\n",
        "        self.positional_encoder = PositionalEncoding(d_model)\n",
        "        self.encoder = Encoder(num_layers, d_model, num_att_heads)\n",
        "        self.decoder = Decoder(num_layers, d_model, num_att_heads)\n",
        "\n",
        "        self.outp_logits = nn.Linear(d_model, output_dict_size)\n",
        "        self.softmax = nn.Softmax(dim=2)\n",
        "\n",
        "    def translate(self, src, tgt_start_code, tgt_eos_code, src_padding_mask, src_subsq_mask):\n",
        "\n",
        "        # This function is already complete\n",
        "\n",
        "        enc_x = self.input_emb.forward(src.squeeze(dim=2))\n",
        "        enc_x = self.positional_encoder.forward(enc_x)\n",
        "        enc_keys, enc_values = self.encoder.forward(enc_x, src_padding_mask, src_subsq_mask)\n",
        "\n",
        "        snt = torch.ones((1,1,1)) * tgt_start_code\n",
        "        snt = snt.long()\n",
        "        snt = snt.to(device)\n",
        "\n",
        "        translation_idxes = []\n",
        "\n",
        "        for idx in range(self.max_sent_len):\n",
        "\n",
        "            dec_x = self.outp_emb.forward(snt.squeeze(dim=2))\n",
        "            dec_x = self.positional_encoder.forward(dec_x)\n",
        "            dec_x = self.decoder.forward(\n",
        "                dec_x,\n",
        "                src_padding_mask = src_padding_mask,\n",
        "                tgt_padding_mask = torch.zeros_like(snt).float().to(device),\n",
        "                tgt_subsq_mask = get_square_subsequent_mask(snt.size()[1]),\n",
        "                mem_keys = enc_keys,\n",
        "                mem_values = enc_values\n",
        "            )\n",
        "            dec_x = self.outp_logits.forward(dec_x)\n",
        "            dec_x = self.softmax(dec_x)\n",
        "            next_word_softmax = dec_x[0,idx,:].to('cpu').detach()\n",
        "            next_word_idx = torch.argmax(next_word_softmax)\n",
        "            snt = torch.cat([snt, torch.ones((1,1,1)).long().to(device) * next_word_idx], dim=1)\n",
        "\n",
        "            translation_idxes.append(next_word_idx)\n",
        "\n",
        "            if next_word_idx == tgt_eos_code:\n",
        "                break\n",
        "\n",
        "        return translation_idxes\n",
        "\n",
        "\n",
        "    def forward(self, src, tgt, src_padding_mask, src_subsq_mask, tgt_padding_mask, tgt_subsq_mask):\n",
        "\n",
        "        enc_x = self.input_emb.forward(src.squeeze(dim=2))\n",
        "        enc_x = self.positional_encoder.forward(enc_x)\n",
        "        enc_keys, enc_values = self.encoder.forward(enc_x, src_padding_mask, src_subsq_mask)\n",
        "\n",
        "        dec_x = self.outp_emb.forward(tgt.squeeze(dim=2))\n",
        "        dec_x = self.positional_encoder.forward(dec_x)\n",
        "        dec_x = self.decoder.forward(dec_x, src_padding_mask, tgt_padding_mask, tgt_subsq_mask, enc_keys, enc_values)\n",
        "        dec_x = self.outp_logits.forward(dec_x)\n",
        "        dec_x = self.softmax(dec_x)\n",
        "\n",
        "        return dec_x"
      ]
    },
    {
      "cell_type": "markdown",
      "metadata": {
        "id": "PG3maiHu_YHJ"
      },
      "source": [
        "### Some helper functions"
      ]
    },
    {
      "cell_type": "code",
      "execution_count": null,
      "metadata": {
        "id": "C2I3R_QM_YHK"
      },
      "outputs": [],
      "source": [
        "def get_square_subsequent_mask(seq_len):\n",
        "    mask = (torch.triu(torch.ones(seq_len, seq_len).to(device)) == 1).transpose(0, 1)\n",
        "    mask = mask.float().masked_fill(mask == 0, float('-inf')).masked_fill(mask == 1, float(0.0))\n",
        "    return mask\n",
        "\n",
        "def get_padding_mask(input, val1 = float('-inf'), val2 = float(0.0)):\n",
        "    mask = torch.ones(input.size()).to(device)\n",
        "    mask = mask.float().masked_fill(input == 0, val1).masked_fill(input > 0, val2)\n",
        "    return mask\n",
        "\n",
        "\n",
        "def get_one_hot(x, out_dim, mask):\n",
        "\n",
        "    tens = x.view(-1)\n",
        "    tens_one_hot = torch.zeros(list(tens.size()) + [out_dim]).to(device)\n",
        "    for i in range(len(tens)):\n",
        "        tens_one_hot[i,tens[i]] = 1\n",
        "\n",
        "    tens_one_hot = tens_one_hot.view(list(x.size()) + [out_dim])\n",
        "    tens_one_hot = tens_one_hot * mask\n",
        "    return tens_one_hot.to(device)"
      ]
    },
    {
      "cell_type": "code",
      "execution_count": null,
      "metadata": {
        "id": "sM4LYVeN_YHN"
      },
      "outputs": [],
      "source": [
        "#Prepare the sentence for model translate function\n",
        "def translate_sentences(src_sentences, tgt_sentences, max_sent_num = 15):\n",
        "\n",
        "    transformer_model.eval()\n",
        "\n",
        "    with torch.no_grad():\n",
        "\n",
        "        for snt_idx in range(len(src_sentences)):\n",
        "\n",
        "            if snt_idx > max_sent_num:\n",
        "                break\n",
        "\n",
        "            src = src_sentences[snt_idx:snt_idx+1]\n",
        "\n",
        "            padded_src = pad_sequence(src, padding_value=0, batch_first=True).to(device)\n",
        "            src_padding_mask = get_padding_mask(padded_src)\n",
        "            src_subsq_mask = get_square_subsequent_mask(padded_src.size()[1])\n",
        "\n",
        "            snt_translation = transformer_model.translate(\n",
        "                src = padded_src,\n",
        "                tgt_start_code = dataset.get_eng_start_code(),\n",
        "                tgt_eos_code = dataset.get_eng_eos_code(),\n",
        "                src_padding_mask = src_padding_mask,\n",
        "                src_subsq_mask = src_subsq_mask\n",
        "            )\n",
        "\n",
        "            src_sent = ''\n",
        "            for word_idx in src_sentences[snt_idx]:\n",
        "                src_sent = f\"{src_sent} {dataset.fra_token_to_text[word_idx]}\"\n",
        "\n",
        "            tgt_sent = ''\n",
        "            for word_idx in tgt_sentences[snt_idx]:\n",
        "                tgt_sent = f\"{tgt_sent} {dataset.eng_token_to_text[word_idx]}\"\n",
        "\n",
        "            translated_sent = ''\n",
        "            for word_idx in snt_translation:\n",
        "                translated_sent = f\"{translated_sent} {dataset.eng_token_to_text[word_idx]}\"\n",
        "\n",
        "            print(f\"Source sentence is: {src_sent}\")\n",
        "            print(f\"Target sentence is: {tgt_sent}\")\n",
        "            print(f\"Model translation is: {translated_sent}\")\n",
        "\n",
        "    transformer_model.train()"
      ]
    },
    {
      "cell_type": "markdown",
      "metadata": {
        "id": "LG2e0E8Z_YHT"
      },
      "source": [
        "### Hyperparams, model definition and dataset"
      ]
    },
    {
      "cell_type": "code",
      "source": [
        "import nltk\n",
        "nltk.download('punkt_tab')"
      ],
      "metadata": {
        "colab": {
          "base_uri": "https://localhost:8080/"
        },
        "id": "8pYECDwr1SuS",
        "outputId": "97f1d4b5-6ab8-4b26-871c-ad8d1e94de4f"
      },
      "execution_count": null,
      "outputs": [
        {
          "output_type": "stream",
          "name": "stderr",
          "text": [
            "[nltk_data] Downloading package punkt_tab to /root/nltk_data...\n",
            "[nltk_data]   Unzipping tokenizers/punkt_tab.zip.\n"
          ]
        },
        {
          "output_type": "execute_result",
          "data": {
            "text/plain": [
              "True"
            ]
          },
          "metadata": {},
          "execution_count": 22
        }
      ]
    },
    {
      "cell_type": "markdown",
      "source": [],
      "metadata": {
        "id": "-GUAsdza6RcN"
      }
    },
    {
      "cell_type": "code",
      "execution_count": null,
      "metadata": {
        "colab": {
          "base_uri": "https://localhost:8080/"
        },
        "id": "rE_XEjKo_YHT",
        "outputId": "52af4179-b0f8-49a1-a644-024d76f14f93"
      },
      "outputs": [
        {
          "output_type": "stream",
          "name": "stdout",
          "text": [
            "170190\n"
          ]
        }
      ],
      "source": [
        "BATCH_SIZE = 16\n",
        "LEARNING_RATE = 1e-4\n",
        "EPOCHS = 2\n",
        "STORE_MODELS = True\n",
        "models_path = 'models'\n",
        "\n",
        "if not os.path.exists(models_path):\n",
        "    os.mkdir(models_path)\n",
        "\n",
        "dataset = FraEngDataset()\n",
        "\n",
        "sentences_loader = DataLoader(dataset, batch_size=BATCH_SIZE, shuffle=True, drop_last=True, collate_fn=fra_eng_dataset_collate)\n",
        "\n",
        "in_dict_size = dataset.get_fra_dict_size()\n",
        "out_dict_size = dataset.get_eng_dict_size()\n",
        "\n",
        "transformer_model = Transformer(\n",
        "    num_layers=6,\n",
        "    d_model=512,\n",
        "    num_att_heads=8,\n",
        "    input_dict_size=in_dict_size,\n",
        "    output_dict_size=out_dict_size\n",
        ").to(device)\n",
        "\n",
        "optimizer = torch.optim.Adam(transformer_model.parameters(), lr = 1e-4)\n"
      ]
    },
    {
      "cell_type": "markdown",
      "metadata": {
        "id": "Izp9Fx2F_YHZ"
      },
      "source": [
        "# Training and sentence translation\n",
        "Now just train the model. You should be able to see the translations at the end of each epoch. Check the quality of your translations. Be patient. Each epoch can take more than 2 hours in a GPU."
      ]
    },
    {
      "cell_type": "code",
      "execution_count": null,
      "metadata": {
        "colab": {
          "base_uri": "https://localhost:8080/"
        },
        "id": "G35MNimi_YHa",
        "outputId": "4e5b2f95-8db1-4ea8-9dfa-0b498de7ab56"
      },
      "outputs": [
        {
          "output_type": "stream",
          "name": "stdout",
          "text": [
            "Epoch 0 ============================================================\n",
            "Total loss per word: 2.5541648864746094\n",
            "Some translated sentences:\n",
            "Source sentence is:  <START> Juste en la regardant , on peut voir qu'elle t'aime . <EOS>\n",
            "Target sentence is:  <START> Just looking at her , you can tell that she likes you .\n",
            "Model translation is:  I was in the world , but she can see you . <EOS>\n",
            "Source sentence is:  <START> Tom m ' a dit qu'il n'avait pas peur de Marie . <EOS>\n",
            "Target sentence is:  <START> Tom told me that he was n't afraid of Mary .\n",
            "Model translation is:  Tom told me he was n't afraid of Mary . <EOS>\n",
            "Source sentence is:  <START> Je ne peux me résoudre à faire une telle chose . <EOS>\n",
            "Target sentence is:  <START> I ca n't bring myself to do such a thing .\n",
            "Model translation is:  I ca n't solve myself to a thing . <EOS>\n",
            "Source sentence is:  <START> Je ne pense pas que j'en ai une . <EOS>\n",
            "Target sentence is:  <START> I do n't think I have one of those .\n",
            "Model translation is:  I do n't think I had a minute . <EOS>\n",
            "Source sentence is:  <START> Nous avons encore beaucoup de temps . <EOS>\n",
            "Target sentence is:  <START> We 've still got a lot of time .\n",
            "Model translation is:  We still have a lot of time . <EOS>\n",
            "Source sentence is:  <START> J'ai bien peur que cette clé ne marche pas . <EOS>\n",
            "Target sentence is:  <START> I 'm afraid this key does n't fit .\n",
            "Model translation is:  I 'm afraid this key would n't be OK . <EOS>\n",
            "Source sentence is:  <START> Je ne suis pas assez bon pour vous . <EOS>\n",
            "Target sentence is:  <START> I 'm not good enough for you .\n",
            "Model translation is:  I 'm not good enough for you . <EOS>\n",
            "Source sentence is:  <START> Je ne ferais pas cela sans vous . <EOS>\n",
            "Target sentence is:  <START> I would n't do that without you .\n",
            "Model translation is:  I would n't do that without you . <EOS>\n",
            "Source sentence is:  <START> Peux-tu t'émanciper de tes parents ? <EOS>\n",
            "Target sentence is:  <START> Can you get away from your parents ?\n",
            "Model translation is:  Can you stop your parents ? <EOS>\n",
            "Source sentence is:  <START> Il a encore beaucoup à apprendre . <EOS>\n",
            "Target sentence is:  <START> He still has much to learn .\n",
            "Model translation is:  He has still to learn to learn . <EOS>\n",
            "Source sentence is:  <START> Je ne pourrais pas prendre votre place . <EOS>\n",
            "Target sentence is:  <START> I could n't take your place .\n",
            "Model translation is:  I could n't take your place . <EOS>\n",
            "Source sentence is:  <START> Sautez le plus haut possible . <EOS>\n",
            "Target sentence is:  <START> Jump as high as you can .\n",
            "Model translation is:  Put the most . <EOS>\n",
            "Source sentence is:  <START> L'homme lui a volé son sac . <EOS>\n",
            "Target sentence is:  <START> The man robbed her bag .\n",
            "Model translation is:  The man took him his bag . <EOS>\n",
            "Source sentence is:  <START> Êtes-vous du coin ? <EOS>\n",
            "Target sentence is:  <START> Are you from around here ?\n",
            "Model translation is:  Are you in the mood ? <EOS>\n",
            "Source sentence is:  <START> Qu'est-ce qui a eu lieu , exactement ? <EOS>\n",
            "Target sentence is:  <START> What exactly happened ?\n",
            "Model translation is:  What happened exactly ? <EOS>\n",
            "Source sentence is:  <START> Vous êtes endormie . <EOS>\n",
            "Target sentence is:  <START> You 're sleepy .\n",
            "Model translation is:  You 're beautiful . <EOS>\n",
            "Epoch 1 ============================================================\n",
            "Total loss per word: 1.5537511110305786\n",
            "Some translated sentences:\n",
            "Source sentence is:  <START> Grâce aux moyens de communication modernes et aux systèmes de transports , le monde a rétréci . <EOS>\n",
            "Target sentence is:  <START> Because of modern communication and transportation systems , the world is getting smaller .\n",
            "Model translation is:  Some of the American and the world are in the world of the world . <EOS>\n",
            "Source sentence is:  <START> Tom a rincé les assiettes et les a mises dans le lave-vaisselle . <EOS>\n",
            "Target sentence is:  <START> Tom rinsed off the plates and put them into the dishwasher .\n",
            "Model translation is:  Tom put the facts and put them into the dishwasher . <EOS>\n",
            "Source sentence is:  <START> De quoi voulez-vous m'entretenir ? <EOS>\n",
            "Target sentence is:  <START> What do you want to talk to me about ?\n",
            "Model translation is:  What do you want to talk about ? <EOS>\n",
            "Source sentence is:  <START> Comment sais-tu de quelle épaisseur c'est ? <EOS>\n",
            "Target sentence is:  <START> How do you know how thick it is ?\n",
            "Model translation is:  How do you know what fruit is ? <EOS>\n",
            "Source sentence is:  <START> Il m ' a écrit de temps en temps . <EOS>\n",
            "Target sentence is:  <START> He wrote to me from time to time .\n",
            "Model translation is:  He wrote me time in time . <EOS>\n",
            "Source sentence is:  <START> Ne change pas d'avis si souvent . <EOS>\n",
            "Target sentence is:  <START> Do n't change your mind so often .\n",
            "Model translation is:  Let 's not change that often . <EOS>\n",
            "Source sentence is:  <START> Est-ce que Tom était là quand nous sommes arrivés ? <EOS>\n",
            "Target sentence is:  <START> Was Tom here when we got here ?\n",
            "Model translation is:  Has Tom been there when we were ? <EOS>\n",
            "Source sentence is:  <START> M'aideriez-vous si je déménage ? <EOS>\n",
            "Target sentence is:  <START> Would you help me if I moved ?\n",
            "Model translation is:  Will I get so much ? <EOS>\n",
            "Source sentence is:  <START> Où étiez-vous toute l'après-midi ? <EOS>\n",
            "Target sentence is:  <START> Where were you for the whole afternoon ?\n",
            "Model translation is:  Where were you all afternoon ? <EOS>\n",
            "Source sentence is:  <START> Tom sait qui a volé ta voiture . <EOS>\n",
            "Target sentence is:  <START> Tom knows who stole your car .\n",
            "Model translation is:  Tom knows who stole your car . <EOS>\n",
            "Source sentence is:  <START> Vous avez un choix à faire . <EOS>\n",
            "Target sentence is:  <START> You have a choice to make .\n",
            "Model translation is:  You have a choice to do . <EOS>\n",
            "Source sentence is:  <START> Cette cuillère est pour le thé . <EOS>\n",
            "Target sentence is:  <START> This spoon is for tea .\n",
            "Model translation is:  This lady is for tea . <EOS>\n",
            "Source sentence is:  <START> Christophe Colomb a découvert l'Amérique . <EOS>\n",
            "Target sentence is:  <START> Christopher Columbus discovered America .\n",
            "Model translation is:  The nurse found the boat . <EOS>\n",
            "Source sentence is:  <START> C'est une arnaque . <EOS>\n",
            "Target sentence is:  <START> It 's a scam .\n",
            "Model translation is:  It 's a scam . <EOS>\n",
            "Source sentence is:  <START> Nous aimons parler . <EOS>\n",
            "Target sentence is:  <START> We like to talk .\n",
            "Model translation is:  We 're going to talk . <EOS>\n",
            "Source sentence is:  <START> Je viens de me le rappeler . <EOS>\n",
            "Target sentence is:  <START> I just remembered .\n",
            "Model translation is:  I just got it . <EOS>\n",
            "Training done! Generating some more sentences.\n"
          ]
        }
      ],
      "source": [
        "for epoch in range(EPOCHS):\n",
        "\n",
        "    src_sentences = None\n",
        "    tgt_sentences = None\n",
        "\n",
        "    train_loss_sum = 0.0\n",
        "    total_word_count = 0.0\n",
        "\n",
        "    for sentences in sentences_loader:\n",
        "\n",
        "        src_sentences = sentences['fra_sentences']\n",
        "        tgt_sentences = sentences['eng_sentences']\n",
        "\n",
        "        tgt_sentences_out = []\n",
        "        for idx in range(len(tgt_sentences)):\n",
        "            tgt_sentences_out.append(tgt_sentences[idx][1:])\n",
        "            tgt_sentences[idx] = tgt_sentences[idx][:-1]\n",
        "\n",
        "        # Create tensors from token lists\n",
        "        padded_src = pad_sequence(src_sentences, padding_value=0, batch_first=True).to(device)\n",
        "        padded_tgt = pad_sequence(tgt_sentences, padding_value=0, batch_first=True).to(device)\n",
        "        padded_tgt_out = pad_sequence(tgt_sentences_out, padding_value=0, batch_first=True).to(device)\n",
        "\n",
        "        src_padding_mask = get_padding_mask(padded_src)\n",
        "        src_subsq_mask = get_square_subsequent_mask(padded_src.size()[1])\n",
        "\n",
        "        tgt_padding_mask = get_padding_mask(padded_tgt)\n",
        "        tgt_subsq_mask = get_square_subsequent_mask(padded_tgt.size()[1])\n",
        "\n",
        "\n",
        "        pred = transformer_model.forward(\n",
        "            src=padded_src,\n",
        "            tgt=padded_tgt,\n",
        "            src_padding_mask=src_padding_mask,\n",
        "            src_subsq_mask=src_subsq_mask,\n",
        "            tgt_padding_mask=tgt_padding_mask,\n",
        "            tgt_subsq_mask=tgt_subsq_mask\n",
        "        )\n",
        "\n",
        "        # Mask to zero one hot vectors corresponding to padded elements\n",
        "        one_hot_mask = get_padding_mask(padded_tgt_out, val1=float(0.0), val2=float(1.0))\n",
        "        y_one_hot = get_one_hot(padded_tgt_out.squeeze(dim=2), out_dict_size, mask=one_hot_mask)\n",
        "\n",
        "        loss = - torch.sum(torch.log(pred) * y_one_hot)\n",
        "\n",
        "        loss.backward()\n",
        "        optimizer.step()\n",
        "        optimizer.zero_grad()\n",
        "\n",
        "        train_loss_sum += loss.detach().to('cpu').data\n",
        "        total_word_count += torch.sum(y_one_hot).to('cpu').data\n",
        "\n",
        "    print(f\"Epoch {epoch} \" + '=' * 60)\n",
        "    print(f\"Total loss per word: {train_loss_sum / total_word_count}\")\n",
        "    print(f\"Some translated sentences:\")\n",
        "    with torch.no_grad():\n",
        "     translate_sentences(src_sentences,tgt_sentences) # Take the last batch and translate some sentences.\n",
        "\n",
        "\n",
        "    if STORE_MODELS == True:\n",
        "        model_path = os.path.join(models_path, f'Epoch_{epoch}_model.pt')\n",
        "        torch.save(transformer_model, model_path)\n",
        "\n",
        "print(\"Training done! Generating some more sentences.\")\n"
      ]
    }
  ],
  "metadata": {
    "accelerator": "TPU",
    "colab": {
      "provenance": []
    },
    "kernelspec": {
      "display_name": "Python 3 (ipykernel)",
      "language": "python",
      "name": "python3"
    },
    "language_info": {
      "codemirror_mode": {
        "name": "ipython",
        "version": 3
      },
      "file_extension": ".py",
      "mimetype": "text/x-python",
      "name": "python",
      "nbconvert_exporter": "python",
      "pygments_lexer": "ipython3",
      "version": "3.9.16"
    }
  },
  "nbformat": 4,
  "nbformat_minor": 0
}